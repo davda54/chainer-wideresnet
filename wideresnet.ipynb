{
  "nbformat": 4,
  "nbformat_minor": 0,
  "metadata": {
    "colab": {
      "name": "chainer_wrn.ipynb",
      "version": "0.3.2",
      "provenance": [],
      "collapsed_sections": [],
      "toc_visible": true
    },
    "kernelspec": {
      "name": "python3",
      "display_name": "Python 3"
    },
    "accelerator": "GPU"
  },
  "cells": [
    {
      "cell_type": "markdown",
      "metadata": {
        "id": "XRcZFzh0OPKI",
        "colab_type": "text"
      },
      "source": [
        "# WideResNet in Chainer"
      ]
    },
    {
      "cell_type": "markdown",
      "metadata": {
        "id": "iPcIzk08J3L9",
        "colab_type": "text"
      },
      "source": [
        "### Install Chainer"
      ]
    },
    {
      "cell_type": "code",
      "metadata": {
        "id": "GU3pRtuBJ6p9",
        "colab_type": "code",
        "colab": {}
      },
      "source": [
        "!curl https://colab.chainer.org/install | sh -"
      ],
      "execution_count": 0,
      "outputs": []
    },
    {
      "cell_type": "code",
      "metadata": {
        "id": "uhCu9vVEKLoo",
        "colab_type": "code",
        "colab": {}
      },
      "source": [
        "import chainer as ch\n",
        "import numpy as np\n",
        "import chainer.functions as F\n",
        "import chainer.links as L\n",
        "from chainer import Chain, Sequential\n",
        "from chainer.training import extensions as E\n",
        "\n",
        "ch.config.autotune = True # Enable autotuner of cuDNN"
      ],
      "execution_count": 0,
      "outputs": []
    },
    {
      "cell_type": "markdown",
      "metadata": {
        "id": "xkoifiS29wUk",
        "colab_type": "text"
      },
      "source": [
        "###Set the hyperparameters"
      ]
    },
    {
      "cell_type": "code",
      "metadata": {
        "id": "gmR2_39w92Lb",
        "colab_type": "code",
        "colab": {}
      },
      "source": [
        "BATCH_SIZE = 128\n",
        "DEPTH = 40\n",
        "WIDTH_FACTOR = 4\n",
        "WEIGHT_DECAY = 0.0005\n",
        "LABEL_SMOOTHING = 0.1\n",
        "EPOCHS = 200\n",
        "\n",
        "GPU_ID = 0\n",
        "FOLDER = f\"WRN{DEPTH}-{WIDTH_FACTOR}\""
      ],
      "execution_count": 0,
      "outputs": []
    },
    {
      "cell_type": "markdown",
      "metadata": {
        "id": "qQeYm1hcKeZP",
        "colab_type": "text"
      },
      "source": [
        "### Define the model"
      ]
    },
    {
      "cell_type": "code",
      "metadata": {
        "id": "Of7y9lMxKZsH",
        "colab_type": "code",
        "colab": {}
      },
      "source": [
        "class BasicUnit(Chain):\n",
        "    def __init__(self, channels):\n",
        "        super(BasicUnit, self).__init__()\n",
        "        w = ch.initializers.HeNormal()\n",
        "        \n",
        "        with self.init_scope():\n",
        "            self.block = Sequential(\n",
        "                L.BatchNormalization(channels),\n",
        "                F.relu,\n",
        "                L.Convolution2D(in_channels=channels, out_channels=channels, ksize=3, stride=1, pad=1, nobias=True, initialW=w),\n",
        "                L.BatchNormalization(channels),\n",
        "                F.relu,\n",
        "                L.Convolution2D(in_channels=channels, out_channels=channels, ksize=3, stride=1, pad=1, nobias=True, initialW=w)\n",
        "            )\n",
        "\n",
        "    def forward(self, x):\n",
        "        return x + self.block(x)\n",
        "\n",
        "\n",
        "class DownsampleUnit(Chain):\n",
        "    def __init__(self, in_channels, out_channels, stride):\n",
        "        super(DownsampleUnit, self).__init__()\n",
        "        w = ch.initializers.HeNormal()\n",
        "        \n",
        "        with self.init_scope():\n",
        "            self.batchNorm = L.BatchNormalization(in_channels)\n",
        "            self.block = Sequential(\n",
        "                L.Convolution2D(in_channels=in_channels, out_channels=out_channels, ksize=3, stride=stride, pad=1, nobias=True, initialW=w),\n",
        "                L.BatchNormalization(out_channels),\n",
        "                F.relu,\n",
        "                L.Convolution2D(in_channels=out_channels, out_channels=out_channels, ksize=3, stride=1, pad=1, nobias=True, initialW=w)\n",
        "            )\n",
        "            self.downsample = L.Convolution2D(in_channels=in_channels, out_channels=out_channels, ksize=1, stride=stride, pad=0, nobias=True, initialW=w)\n",
        "\n",
        "    def forward(self, x):\n",
        "        x = self.batchNorm(F.relu(x))\n",
        "        return self.downsample(x) + self.block(x)\n",
        "\n",
        "\n",
        "class Block(Sequential):\n",
        "    def __init__(self, in_channels, out_channels, stride, depth):\n",
        "        super(Block, self).__init__(\n",
        "            DownsampleUnit(in_channels, out_channels, stride),\n",
        "            BasicUnit(out_channels).repeat(depth)\n",
        "        )\n",
        "    \n",
        "\n",
        "class WideResNet(Sequential):\n",
        "    def __init__(self, depth, width_factor, in_channels, labels):\n",
        "        self.filters = [16, 1 * 16 * width_factor, 2 * 16 * width_factor, 4 * 16 * width_factor]\n",
        "        self.block_depth = (depth - 4) // (3 * 2)\n",
        "        w = ch.initializers.HeNormal()\n",
        "\n",
        "        super(WideResNet, self).__init__(\n",
        "            L.Convolution2D(in_channels=in_channels, out_channels=self.filters[0], ksize=3, stride=1, pad=1, nobias=True, initialW=w),\n",
        "            Block(self.filters[0], self.filters[1], 1, self.block_depth),\n",
        "            Block(self.filters[1], self.filters[2], 2, self.block_depth),\n",
        "            Block(self.filters[2], self.filters[3], 2, self.block_depth),\n",
        "            L.BatchNormalization(self.filters[3]),\n",
        "            F.relu,\n",
        "            lambda x: F.average_pooling_2d(x, ksize=x.shape[2:]).reshape(-1, self.filters[3]),\n",
        "            L.Linear(in_size=self.filters[3], out_size=labels, initialW=w)\n",
        "        )\n",
        "        \n",
        "\n",
        "model = WideResNet(DEPTH, WIDTH_FACTOR, in_channels=3, labels=10)"
      ],
      "execution_count": 0,
      "outputs": []
    },
    {
      "cell_type": "markdown",
      "metadata": {
        "id": "enJ7cGJE26cF",
        "colab_type": "text"
      },
      "source": [
        "### Create crossentropy loss with label smoothing"
      ]
    },
    {
      "cell_type": "code",
      "metadata": {
        "id": "0esRI1C22_is",
        "colab_type": "code",
        "colab": {}
      },
      "source": [
        "def smoothed_crossentropy(logits, labels):\n",
        "    log_prob = F.log_softmax(logits)\n",
        "    loss = - (1-LABEL_SMOOTHING) * F.mean(log_prob[np.arange(logits.shape[0]), labels]) - LABEL_SMOOTHING * F.mean(log_prob)\n",
        "    \n",
        "    return loss\n",
        "\n",
        "\n",
        "loss = L.Classifier(model, lossfun=smoothed_crossentropy).to_gpu(GPU_ID)"
      ],
      "execution_count": 0,
      "outputs": []
    },
    {
      "cell_type": "markdown",
      "metadata": {
        "id": "vOsqqEytST7H",
        "colab_type": "text"
      },
      "source": [
        "### Download CIFAR10 dataset"
      ]
    },
    {
      "cell_type": "code",
      "metadata": {
        "id": "OIdGpQvESZZa",
        "colab_type": "code",
        "colab": {}
      },
      "source": [
        "train, test = ch.datasets.get_cifar10() # download\n",
        "valid, train = ch.datasets.split_dataset_random(train, 5000, seed=0)"
      ],
      "execution_count": 0,
      "outputs": []
    },
    {
      "cell_type": "code",
      "metadata": {
        "id": "50NKZk3cS4RI",
        "colab_type": "code",
        "outputId": "e83f8722-d68d-4c6d-a27d-ba45113cbd9d",
        "colab": {
          "base_uri": "https://localhost:8080/",
          "height": 322
        }
      },
      "source": [
        "print(f\"train size: {len(train)}, valid size: {len(valid)}, test size: {len(test)}\")\n",
        "\n",
        "im, label = train[0]\n",
        "images = np.array([im for im, _ in train])\n",
        "CIFAR_C, CIFAR_H, CIFAR_W = im.shape\n",
        "CIFAR_MEAN = images.mean((0,2,3))\n",
        "CIFAR_STD = images.std((0,2,3))\n",
        "\n",
        "print(f\"data shape: {CIFAR_C, CIFAR_H, CIFAR_W}\")\n",
        "print(f\"data mean: {CIFAR_MEAN}, std: {CIFAR_STD}, min: {images.min():.3f}, max: {images.max():.3f}\")     \n",
        "\n",
        "import matplotlib.pyplot as plt\n",
        "plt.imshow(np.transpose(im, axes=(1,2,0)))\n",
        "plt.show()"
      ],
      "execution_count": 37,
      "outputs": [
        {
          "output_type": "stream",
          "text": [
            "train size: 45000, valid size: 5000, test size: 10000\n",
            "data shape: (3, 32, 32)\n",
            "data mean: [0.4914782  0.4822848  0.44654745], std: [0.24709967 0.24346308 0.26158434], min: 0.000, max: 1.000\n"
          ],
          "name": "stdout"
        },
        {
          "output_type": "display_data",
          "data": {
            "image/png": "[encoded data removed]",
            "text/plain": [
              "<Figure size 432x288 with 1 Axes>"
            ]
          },
          "metadata": {
            "tags": []
          }
        }
      ]
    },
    {
      "cell_type": "markdown",
      "metadata": {
        "id": "0EnDtY_4ZZ1Y",
        "colab_type": "text"
      },
      "source": [
        "### Define dataset augmentations"
      ]
    },
    {
      "cell_type": "code",
      "metadata": {
        "id": "fd_AGUgfZY2u",
        "colab_type": "code",
        "colab": {}
      },
      "source": [
        "def cutout(image, size=16, p=0.5):\n",
        "    if np.random.uniform() > p: return image\n",
        "    half_size = size // 2\n",
        "\n",
        "    left = np.random.randint(-half_size, CIFAR_W - half_size)\n",
        "    top = np.random.randint(-half_size, CIFAR_H - half_size)\n",
        "    right = min(CIFAR_W, left + size)\n",
        "    bottom = min(CIFAR_H, top + size)\n",
        "\n",
        "    image[:, max(0,left):right, max(0,top):bottom] = 0\n",
        "    return image\n",
        "\n",
        "def horizontal_flip(image, p=0.5):\n",
        "    if np.random.uniform() > p: return image\n",
        "    return np.fliplr(image)\n",
        "\n",
        "# does the same as padding by 4 and then randomly cropping\n",
        "def translate(image, amount=4):\n",
        "    clamp = lambda n: max(0, min(n, CIFAR_H))\n",
        "    top, left = np.random.randint(-amount, amount), np.random.randint(-amount, amount)\n",
        "\n",
        "    translated = np.zeros((CIFAR_C, CIFAR_H, CIFAR_W), dtype=np.float32)\n",
        "    translated[:, clamp(-top):clamp(-top + CIFAR_H), clamp(-left):clamp(-left + CIFAR_W)] = image[:, clamp(top):clamp(top + CIFAR_H), clamp(left):clamp(left + CIFAR_W)]\n",
        "\n",
        "    return translated"
      ],
      "execution_count": 0,
      "outputs": []
    },
    {
      "cell_type": "code",
      "metadata": {
        "id": "2ePuQHNdZ_GO",
        "colab_type": "code",
        "colab": {}
      },
      "source": [
        "def augment(input, train: bool):\n",
        "    img, label = input\n",
        "    img = img.copy()\n",
        "    \n",
        "    img -= CIFAR_MEAN[:, None, None]\n",
        "    img /= CIFAR_STD[:, None, None]\n",
        "\n",
        "    if train:\n",
        "        img = translate(horizontal_flip(cutout(img)))\n",
        "    \n",
        "    return img, label\n",
        "\n",
        "\n",
        "train = ch.datasets.TransformDataset(train, lambda im: augment(im, train=True))\n",
        "valid = ch.datasets.TransformDataset(valid, lambda im: augment(im, train=False))\n",
        "test = ch.datasets.TransformDataset(test, lambda im: augment(im, train=False))"
      ],
      "execution_count": 0,
      "outputs": []
    },
    {
      "cell_type": "markdown",
      "metadata": {
        "id": "-sUbEPNdjLyw",
        "colab_type": "text"
      },
      "source": [
        "### Define iterators"
      ]
    },
    {
      "cell_type": "code",
      "metadata": {
        "id": "u2n7Vk7xjN-e",
        "colab_type": "code",
        "colab": {}
      },
      "source": [
        "train_iter = ch.iterators.MultiprocessIterator(train, BATCH_SIZE, repeat=True, shuffle=True)\n",
        "eval_iter = ch.iterators.MultiprocessIterator(valid, BATCH_SIZE, repeat=False, shuffle=False)"
      ],
      "execution_count": 0,
      "outputs": []
    },
    {
      "cell_type": "markdown",
      "metadata": {
        "id": "MxQGC75zlPTN",
        "colab_type": "text"
      },
      "source": [
        "### Define optimizer"
      ]
    },
    {
      "cell_type": "code",
      "metadata": {
        "id": "PLbjoJOclRQQ",
        "colab_type": "code",
        "colab": {}
      },
      "source": [
        "optimizer = ch.optimizers.NesterovAG(lr=0.1)\n",
        "optimizer.setup(loss)\n",
        "optimizer.add_hook(ch.optimizer.WeightDecay(WEIGHT_DECAY))"
      ],
      "execution_count": 0,
      "outputs": []
    },
    {
      "cell_type": "markdown",
      "metadata": {
        "id": "11sRL6zonlbi",
        "colab_type": "text"
      },
      "source": [
        "### Define updater and trainer"
      ]
    },
    {
      "cell_type": "code",
      "metadata": {
        "id": "jUc9gXfOnnET",
        "colab_type": "code",
        "colab": {}
      },
      "source": [
        "updater = ch.training.StandardUpdater(train_iter, optimizer, device=GPU_ID)\n",
        "trainer = ch.training.Trainer(updater, (EPOCHS, 'epoch'), out=FOLDER, extensions=[\n",
        "    E.Evaluator(eval_iter, loss, device=0),\n",
        "    E.observe_lr(),\n",
        "    E.LogReport(),\n",
        "    E.PlotReport(['main/loss', 'validation/main/loss'], x_key='epoch', file_name='loss.png'),\n",
        "    E.PlotReport(['main/accuracy', 'validation/main/accuracy'], x_key='epoch', file_name='accuracy.png'),\n",
        "    E.PrintReport(['epoch', 'main/loss', 'validation/main/loss', 'main/accuracy', 'validation/main/accuracy', 'elapsed_time', 'lr'])\n",
        "])\n",
        "trainer.extend(E.MultistepShift('lr', gamma=0.2, step_value=[60, 120, 160], init=0.1, optimizer=optimizer), trigger=(1, 'epoch'))\n",
        "trainer.extend(E.snapshot_object(model, 'checkpoint_{.updater.epoch:03d}.npz'), trigger=(1, 'epoch'))\n",
        "trainer.extend(E.snapshot_object(model, 'best_checkpoint.npz'), trigger=ch.training.triggers.MaxValueTrigger('validation/main/accuracy'))"
      ],
      "execution_count": 0,
      "outputs": []
    },
    {
      "cell_type": "markdown",
      "metadata": {
        "id": "wDO5kQwKsVvY",
        "colab_type": "text"
      },
      "source": [
        "### Start training"
      ]
    },
    {
      "cell_type": "code",
      "metadata": {
        "id": "DPHsGXPjsVB4",
        "colab_type": "code",
        "colab": {}
      },
      "source": [
        "trainer.run()"
      ],
      "execution_count": 0,
      "outputs": []
    },
    {
      "cell_type": "markdown",
      "metadata": {
        "id": "9eo3n_AVP9ch",
        "colab_type": "text"
      },
      "source": [
        "### Show accuracy plot"
      ]
    },
    {
      "cell_type": "code",
      "metadata": {
        "id": "IwIbZue4PzRn",
        "colab_type": "code",
        "outputId": "3e78ed92-4df2-4c0b-9d57-726e3d98d1ea",
        "colab": {
          "base_uri": "https://localhost:8080/",
          "height": 283
        }
      },
      "source": [
        "from IPython.display import Image\n",
        "Image(filename=f'{FOLDER}/accuracy.png')"
      ],
      "execution_count": 0,
      "outputs": [
        {
          "output_type": "execute_result",
          "data": {
            "image/png": "[encoded data removed]",
            "text/plain": [
              "<IPython.core.display.Image object>"
            ]
          },
          "metadata": {
            "tags": []
          },
          "execution_count": 13
        }
      ]
    },
    {
      "cell_type": "markdown",
      "metadata": {
        "id": "7jcTpz0nlvs8",
        "colab_type": "text"
      },
      "source": [
        "### Load the best checkpoint"
      ]
    },
    {
      "cell_type": "code",
      "metadata": {
        "id": "fliD70EOlzEj",
        "colab_type": "code",
        "colab": {}
      },
      "source": [
        "best_model = WideResNet(DEPTH, WIDTH_FACTOR, in_channels=3, labels=10)\n",
        "ch.serializers.load_npz(f'WRN{DEPTH}-{WIDTH_FACTOR}/best_checkpoint.npz', best_model)\n",
        "best_model.to_gpu(GPU_ID)"
      ],
      "execution_count": 0,
      "outputs": []
    },
    {
      "cell_type": "markdown",
      "metadata": {
        "id": "zZguJ08vQQ_k",
        "colab_type": "text"
      },
      "source": [
        "### Evaluate on test set"
      ]
    },
    {
      "cell_type": "code",
      "metadata": {
        "id": "HfSAFGV7rf3h",
        "colab_type": "code",
        "colab": {
          "base_uri": "https://localhost:8080/",
          "height": 35
        },
        "outputId": "bd9187bd-9441-44b8-bd3f-4bfa4c4aafa2"
      },
      "source": [
        "from chainer import cuda\n",
        "import math\n",
        "\n",
        "test_inputs = np.array([x for x, _ in test])\n",
        "test_labels = np.array([l for _, l in test])\n",
        "predictions = []\n",
        "\n",
        "with ch.using_config('train', False):\n",
        "    for i in range(int(math.ceil(len(test_labels) / BATCH_SIZE))):\n",
        "        batch = test_inputs[i*BATCH_SIZE:min((i+1)*BATCH_SIZE, len(test_labels)), ...]\n",
        "        output = best_model(cuda.to_gpu(batch)).data.argmax(axis=1)\n",
        "        predictions.append(cuda.to_cpu(output))\n",
        "    \n",
        "predictions = np.concatenate(predictions)\n",
        "\n",
        "accuracy = (predictions == test_labels).mean()\n",
        "print(f\"test accuracy: {accuracy}\") "
      ],
      "execution_count": 40,
      "outputs": [
        {
          "output_type": "stream",
          "text": [
            "test accuracy: 0.9424\n"
          ],
          "name": "stdout"
        }
      ]
    }
  ]
}